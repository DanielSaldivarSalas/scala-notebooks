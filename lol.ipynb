{
  "metadata" : {
    "config" : {
      "dependencies" : {
        
      },
      "exclusions" : [
      ],
      "repositories" : [
      ],
      "sparkConfig" : {
        
      }
    }
  },
  "nbformat" : 4,
  "nbformat_minor" : 0,
  "cells" : [
    {
      "cell_type" : "markdown",
      "execution_count" : 0,
      "metadata" : {
        "language" : "text"
      },
      "language" : "text",
      "source" : [
        "# lol\n",
        "\n",
        "\n",
        "This** is a text cell. Start editing!**\n",
        "\n",
        "<br>\n",
        "\n",
        "<br>\n",
        "\n",
        "\n"
      ],
      "outputs" : [
      ]
    },
    {
      "cell_type" : "code",
      "execution_count" : 1,
      "metadata" : {
        "cell.metadata.exec_info" : {
          "startTs" : 1588809572146,
          "endTs" : 1588809573960
        },
        "language" : "scala"
      },
      "language" : "scala",
      "source" : [
        "def fib(n: Int): Int = n match {\n",
        "   case 0 | 1 => n\n",
        "   case _ => fib(n - 1) + fib(n - 2)\n",
        "}\n",
        "fib(10)"
      ],
      "outputs" : [
        {
          "execution_count" : 1,
          "data" : {
            "text/plain" : [
              "55"
            ]
          },
          "metadata" : {
            "name" : "Out",
            "type" : "Int"
          },
          "output_type" : "execute_result"
        }
      ]
    },
    {
      "cell_type" : "code",
      "execution_count" : 2,
      "metadata" : {
        "cell.metadata.exec_info" : {
          "startTs" : 1572116036722,
          "endTs" : 1572116037867
        },
        "language" : "scala"
      },
      "language" : "scala",
      "source" : [
        "class Complex(real: Double, imaginary: Double) {\n",
        "  def re() = real\n",
        "  def im() = imaginary\n",
        "}\n",
        "val orange: Complex = new Complex(12,12)\n",
        "\n",
        "System.out.println(orange.re)\n",
        "println(orange.re)"
      ],
      "outputs" : [
        {
          "name" : "stdout",
          "text" : [
            "12.0\n",
            "12.0\n"
          ],
          "output_type" : "stream"
        }
      ]
    },
    {
      "cell_type" : "code",
      "execution_count" : 3,
      "metadata" : {
        "cell.metadata.exec_info" : {
          "startTs" : 1572098478910,
          "endTs" : 1572098479310
        },
        "language" : "scala"
      },
      "language" : "scala",
      "source" : [
        "val orange = Array(1,2,3)"
      ],
      "outputs" : [
        {
          "execution_count" : 3,
          "data" : {
            "application/json" : [
              {
                "pos" : {
                  "sourceId" : "Cell1",
                  "start" : 18,
                  "end" : 18,
                  "point" : 18
                },
                "msg" : "illegal cyclic reference involving class SeqLike",
                "severity" : 2
              }
            ],
            "text/plain" : [
              "Error: illegal cyclic reference involving class SeqLike (18)"
            ]
          },
          "metadata" : {
            "rel" : "compiler_errors"
          },
          "output_type" : "execute_result"
        }
      ]
    },
    {
      "cell_type" : "code",
      "execution_count" : 4,
      "metadata" : {
        "language" : "scala"
      },
      "language" : "scala",
      "source" : [
      ],
      "outputs" : [
      ]
    },
    {
      "cell_type" : "code",
      "execution_count" : 5,
      "metadata" : {
        "jupyter.outputs_hidden" : true,
        "language" : "vega"
      },
      "language" : "vega",
      "source" : [
      ],
      "outputs" : [
      ]
    },
    {
      "cell_type" : "markdown",
      "execution_count" : 6,
      "metadata" : {
        "language" : "text"
      },
      "language" : "text",
      "source" : [
      ],
      "outputs" : [
      ]
    },
    {
      "cell_type" : "code",
      "execution_count" : 7,
      "metadata" : {
        "language" : "vega"
      },
      "language" : "vega",
      "source" : [
      ],
      "outputs" : [
      ]
    },
    {
      "cell_type" : "code",
      "execution_count" : 9,
      "metadata" : {
        "cell.metadata.exec_info" : {
          "startTs" : 1588809692659,
          "endTs" : 1588809692673
        },
        "language" : "python"
      },
      "language" : "python",
      "source" : [
        "print(\"helo\")"
      ],
      "outputs" : [
        {
          "ename" : "java.lang.UnsatisfiedLinkError",
          "evalue" : "jep.Jep.init(Ljava/lang/ClassLoader;ZZ)J",
          "traceback" : [
          ],
          "output_type" : "error"
        }
      ]
    },
    {
      "cell_type" : "code",
      "execution_count" : 8,
      "metadata" : {
        "language" : "vega"
      },
      "language" : "vega",
      "source" : [
      ],
      "outputs" : [
      ]
    }
  ]
}